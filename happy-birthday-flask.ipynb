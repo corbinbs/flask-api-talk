{
 "metadata": {
  "name": ""
 },
 "nbformat": 3,
 "nbformat_minor": 0,
 "worksheets": [
  {
   "cells": [
    {
     "cell_type": "heading",
     "level": 1,
     "metadata": {},
     "source": [
      "Happy Birthday, Flask!"
     ]
    },
    {
     "cell_type": "code",
     "collapsed": false,
     "input": [
      "from IPython.display import Image\n",
      "Image(url='https://scontent-a-atl.xx.fbcdn.net/hphotos-ash3/t1.0-9/10152618_542527765779455_270328669_n.jpg')"
     ],
     "language": "python",
     "metadata": {},
     "outputs": []
    },
    {
     "cell_type": "markdown",
     "metadata": {},
     "source": [
      "Outline\n",
      "-------\n",
      "\n",
      "* Introduction\n",
      "    * Single module use\n",
      "    * Different content types\n",
      "    * Flask configuration, the request and g\n",
      "* APIs\n",
      "    * testing\n",
      "    * before and after request\n",
      "    * error handlers\n",
      "    * route decorators\n",
      "    * versions via blueprints\n",
      "    * classy APIs\n",
      "        * http://pythonhosted.org/Flask-Classy/\n",
      "        * billing\n",
      "        * rate limiting\n",
      "        * authentication\n",
      "        * consistent responses"
     ]
    },
    {
     "cell_type": "heading",
     "level": 3,
     "metadata": {},
     "source": [
      "Simple stuff is simple: Single Module"
     ]
    },
    {
     "cell_type": "code",
     "collapsed": false,
     "input": [
      "!curl -i http://localhost:5000/happy/birthday/flask"
     ],
     "language": "python",
     "metadata": {},
     "outputs": []
    },
    {
     "cell_type": "code",
     "collapsed": false,
     "input": [
      "!curl -i http://localhost:5000/happy/birthday/flask.json"
     ],
     "language": "python",
     "metadata": {},
     "outputs": []
    },
    {
     "cell_type": "code",
     "collapsed": false,
     "input": [
      "!curl -i http://localhost:5000/happy/birthday/flask.xml"
     ],
     "language": "python",
     "metadata": {},
     "outputs": []
    },
    {
     "cell_type": "code",
     "collapsed": false,
     "input": [
      "!curl -i http://localhost:5000/happy/birthday/flask.json?hello=true"
     ],
     "language": "python",
     "metadata": {},
     "outputs": []
    },
    {
     "cell_type": "code",
     "collapsed": false,
     "input": [
      "!curl -i http://localhost:5000/v2/happy/birthday/flask.json"
     ],
     "language": "python",
     "metadata": {},
     "outputs": []
    },
    {
     "cell_type": "code",
     "collapsed": false,
     "input": [
      "!curl -i http://localhost:5000/v2/happy/birthday/flask.json?id=1000"
     ],
     "language": "python",
     "metadata": {},
     "outputs": []
    },
    {
     "cell_type": "code",
     "collapsed": false,
     "input": [
      "!curl -i -X POST -d \"hubpy=cool\" http://localhost:5000/v2/happy/birthday/flask.json?id=1000"
     ],
     "language": "python",
     "metadata": {},
     "outputs": []
    },
    {
     "cell_type": "code",
     "collapsed": false,
     "input": [
      "!curl -i -X POST -d '{\"value\": 1, \"items\": [\"one\", \"two\", \"three\"], \"price\": 12.75}' http://localhost:5000/json/echo"
     ],
     "language": "python",
     "metadata": {},
     "outputs": []
    },
    {
     "cell_type": "code",
     "collapsed": false,
     "input": [
      "!curl -i -H \"Content-Type: application/json\" -X POST -d '{\"value\": 1, \"items\": [\"one\", \"two\", \"three\"], \"price\": 12.75}' http://localhost:5000/json/echo"
     ],
     "language": "python",
     "metadata": {},
     "outputs": []
    },
    {
     "cell_type": "heading",
     "level": 3,
     "metadata": {},
     "source": [
      "Classy APIs"
     ]
    },
    {
     "cell_type": "code",
     "collapsed": false,
     "input": [
      "!curl -i http://localhost:5000/api/v1/pytruck/"
     ],
     "language": "python",
     "metadata": {},
     "outputs": []
    },
    {
     "cell_type": "code",
     "collapsed": false,
     "input": [
      "!curl -i http://localhost:5000/api/v1/pytruck/1"
     ],
     "language": "python",
     "metadata": {},
     "outputs": []
    },
    {
     "cell_type": "code",
     "collapsed": false,
     "input": [],
     "language": "python",
     "metadata": {},
     "outputs": []
    }
   ],
   "metadata": {}
  }
 ]
}